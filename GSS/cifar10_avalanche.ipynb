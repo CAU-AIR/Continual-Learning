{
 "cells": [
  {
   "cell_type": "code",
   "execution_count": 1,
   "metadata": {},
   "outputs": [
    {
     "name": "stderr",
     "output_type": "stream",
     "text": [
      "/home/cal-05/anaconda3/envs/hspark/lib/python3.8/site-packages/tqdm/auto.py:22: TqdmWarning: IProgress not found. Please update jupyter and ipywidgets. See https://ipywidgets.readthedocs.io/en/stable/user_install.html\n",
      "  from .autonotebook import tqdm as notebook_tqdm\n"
     ]
    }
   ],
   "source": [
    "import torch\n",
    "import pickle\n",
    "import random\n",
    "import torchvision\n",
    "import numpy as np\n",
    "import datetime as dt\n",
    "import torch.optim as optim\n",
    "import torch.backends.cudnn as cudnn\n",
    "from torchvision import transforms\n",
    "\n",
    "from avalanche.training.supervised import GSS_greedy\n",
    "from avalanche.logging import InteractiveLogger, TensorboardLogger\n",
    "from avalanche.benchmarks.datasets import CIFAR10\n",
    "from avalanche.benchmarks.generators import nc_benchmark\n",
    "from avalanche.benchmarks.utils import AvalancheDataset\n",
    "from avalanche.training.plugins import EvaluationPlugin\n",
    "from avalanche.evaluation.metrics import ExperienceAccuracy, ExperienceLoss, ExperienceForgetting, ExperienceTime, EpochAccuracy"
   ]
  },
  {
   "cell_type": "code",
   "execution_count": 2,
   "metadata": {},
   "outputs": [],
   "source": [
    "seed = 0\n",
    "random.seed(seed)\n",
    "np.random.seed(seed)\n",
    "torch.manual_seed(seed)\n",
    "torch.cuda.manual_seed(seed)\n",
    "cudnn.enabled = False\n",
    "cudnn.deterministic = True"
   ]
  },
  {
   "cell_type": "code",
   "execution_count": 3,
   "metadata": {},
   "outputs": [
    {
     "name": "stdout",
     "output_type": "stream",
     "text": [
      "Files already downloaded and verified\n",
      "Files already downloaded and verified\n"
     ]
    }
   ],
   "source": [
    "train_set = CIFAR10('../Dataset/CIFAR10', train=True, download=True)\n",
    "test_set = CIFAR10('../Dataset/CIFAR10', train=False, download=True)\n",
    "\n",
    "transforms_group = dict(\n",
    "       train=(\n",
    "       transforms.Compose(\n",
    "              [\n",
    "              transforms.ToTensor(),\n",
    "              ]\n",
    "       ),\n",
    "       None,\n",
    "       ),\n",
    "       eval=(\n",
    "       transforms.Compose(\n",
    "              [\n",
    "              transforms.ToTensor(),\n",
    "              ]\n",
    "       ),\n",
    "       None,\n",
    "       )\n",
    ")\n",
    "\n",
    "train_set = AvalancheDataset(train_set, transform_groups=transforms_group, initial_transform_group=\"train\")\n",
    "test_set = AvalancheDataset(test_set, transform_groups=transforms_group, initial_transform_group=\"eval\")"
   ]
  },
  {
   "cell_type": "code",
   "execution_count": 4,
   "metadata": {},
   "outputs": [],
   "source": [
    "device = torch.device('cuda:1' if torch.cuda.is_available() else 'cpu')\n",
    "\n",
    "num_class = 10\n",
    "incremental = 5\n",
    "\n",
    "scenario = nc_benchmark(train_dataset=train_set,\n",
    "                        test_dataset=test_set,\n",
    "                        n_experiences=incremental,\n",
    "                        task_labels=False,\n",
    "                        seed=seed,\n",
    "                        shuffle=False\n",
    "                        )\n",
    "\n",
    "model = torchvision.models.resnet18(pretrained=False, num_classes=num_class)\n",
    "model.to(device)\n",
    "\n",
    "optimizer = optim.SGD(model.parameters(), lr=1e-2)\n",
    "criterion = torch.nn.CrossEntropyLoss()"
   ]
  },
  {
   "cell_type": "code",
   "execution_count": 5,
   "metadata": {},
   "outputs": [
    {
     "name": "stderr",
     "output_type": "stream",
     "text": [
      "2022-08-10 16:55:17.723806: I tensorflow/core/util/util.cc:169] oneDNN custom operations are on. You may see slightly different numerical results due to floating-point round-off errors from different computation orders. To turn them off, set the environment variable `TF_ENABLE_ONEDNN_OPTS=0`.\n",
      "/home/cal-05/anaconda3/envs/hspark/lib/python3.8/site-packages/avalanche/training/plugins/evaluation.py:81: UserWarning: No benchmark provided to the evaluation plugin. Metrics may be computed on inconsistent portion of streams, use at your own risk.\n",
      "  warnings.warn(\n"
     ]
    }
   ],
   "source": [
    "date = dt.datetime.now()\n",
    "date = date.strftime(\"%Y_%m_%d_%H_%M_%S\")\n",
    "\n",
    "interactive_logger = InteractiveLogger()\n",
    "tensor_logger = TensorboardLogger(\"logs_GSS-Greedy_cifar10_avalanche_\" + date)\n",
    "eval_plugin = EvaluationPlugin(\n",
    "    EpochAccuracy(),\n",
    "    ExperienceAccuracy(),\n",
    "    ExperienceLoss(),\n",
    "    ExperienceForgetting(),\n",
    "    ExperienceTime(),\n",
    "    loggers=[interactive_logger, tensor_logger])"
   ]
  },
  {
   "cell_type": "markdown",
   "metadata": {},
   "source": [
    "## GSS-Greedy"
   ]
  },
  {
   "cell_type": "code",
   "execution_count": 6,
   "metadata": {},
   "outputs": [],
   "source": [
    "train_batch = 10\n",
    "eval_batch = 10\n",
    "epoch = 10\n",
    "\n",
    "strategies = GSS_greedy(model, optimizer, criterion, mem_size=200, mem_strength=10, input_size=[3, 32, 32], train_epochs=epoch, device=device, train_mb_size=train_batch, eval_mb_size=eval_batch, evaluator=eval_plugin)"
   ]
  },
  {
   "cell_type": "code",
   "execution_count": 7,
   "metadata": {},
   "outputs": [
    {
     "name": "stdout",
     "output_type": "stream",
     "text": [
      "Starting experiment...\n",
      "Start training on experience  0\n",
      "-- >> Start of training phase << --\n",
      "100%|██████████| 1000/1000 [04:31<00:00,  3.69it/s]\n",
      "Epoch 0 ended.\n",
      "\tTop1_Acc_Epoch/train_phase/train_stream/Task000 = 0.7714\n",
      "100%|██████████| 1000/1000 [04:24<00:00,  3.78it/s]\n",
      "Epoch 1 ended.\n",
      "\tTop1_Acc_Epoch/train_phase/train_stream/Task000 = 0.8570\n",
      "100%|██████████| 1000/1000 [04:38<00:00,  3.59it/s]\n",
      "Epoch 2 ended.\n",
      "\tTop1_Acc_Epoch/train_phase/train_stream/Task000 = 0.8999\n",
      "100%|██████████| 1000/1000 [04:28<00:00,  3.72it/s]\n",
      "Epoch 3 ended.\n",
      "\tTop1_Acc_Epoch/train_phase/train_stream/Task000 = 0.9078\n",
      "100%|██████████| 1000/1000 [04:41<00:00,  3.55it/s]\n",
      "Epoch 4 ended.\n",
      "\tTop1_Acc_Epoch/train_phase/train_stream/Task000 = 0.9198\n",
      "100%|██████████| 1000/1000 [04:31<00:00,  3.69it/s]\n",
      "Epoch 5 ended.\n",
      "\tTop1_Acc_Epoch/train_phase/train_stream/Task000 = 0.9331\n",
      "100%|██████████| 1000/1000 [04:40<00:00,  3.56it/s]\n",
      "Epoch 6 ended.\n",
      "\tTop1_Acc_Epoch/train_phase/train_stream/Task000 = 0.9465\n",
      "100%|██████████| 1000/1000 [05:11<00:00,  3.21it/s]\n",
      "Epoch 7 ended.\n",
      "\tTop1_Acc_Epoch/train_phase/train_stream/Task000 = 0.9599\n",
      "100%|██████████| 1000/1000 [06:02<00:00,  2.76it/s]\n",
      "Epoch 8 ended.\n",
      "\tTop1_Acc_Epoch/train_phase/train_stream/Task000 = 0.9663\n",
      "100%|██████████| 1000/1000 [06:01<00:00,  2.77it/s]\n",
      "Epoch 9 ended.\n",
      "\tTop1_Acc_Epoch/train_phase/train_stream/Task000 = 0.9711\n",
      "-- >> End of training phase << --\n",
      "End training on experience  0\n",
      "Computing accuracy on the test set\n",
      "-- >> Start of eval phase << --\n",
      "-- Starting eval on experience 0 (Task 0) from test stream --\n",
      "100%|██████████| 200/200 [00:01<00:00, 143.22it/s]\n",
      "> Eval on experience 0 (Task 0) from test stream ended.\n",
      "\tLoss_Exp/eval_phase/test_stream/Task000/Exp000 = 0.1943\n",
      "\tTime_Exp/eval_phase/test_stream/Task000/Exp000 = 1.3980\n",
      "\tTop1_Acc_Exp/eval_phase/test_stream/Task000/Exp000 = 0.9300\n",
      "-- Starting eval on experience 1 (Task 0) from test stream --\n",
      "100%|██████████| 200/200 [00:01<00:00, 142.59it/s]\n",
      "> Eval on experience 1 (Task 0) from test stream ended.\n",
      "\tLoss_Exp/eval_phase/test_stream/Task000/Exp001 = 14.3052\n",
      "\tTime_Exp/eval_phase/test_stream/Task000/Exp001 = 1.4035\n",
      "\tTop1_Acc_Exp/eval_phase/test_stream/Task000/Exp001 = 0.0000\n",
      "-- Starting eval on experience 2 (Task 0) from test stream --\n",
      "100%|██████████| 200/200 [00:01<00:00, 139.98it/s]\n",
      "> Eval on experience 2 (Task 0) from test stream ended.\n",
      "\tLoss_Exp/eval_phase/test_stream/Task000/Exp002 = 13.6934\n",
      "\tTime_Exp/eval_phase/test_stream/Task000/Exp002 = 1.4294\n",
      "\tTop1_Acc_Exp/eval_phase/test_stream/Task000/Exp002 = 0.0000\n",
      "-- Starting eval on experience 3 (Task 0) from test stream --\n",
      "100%|██████████| 200/200 [00:01<00:00, 140.06it/s]\n",
      "> Eval on experience 3 (Task 0) from test stream ended.\n",
      "\tLoss_Exp/eval_phase/test_stream/Task000/Exp003 = 13.2643\n",
      "\tTime_Exp/eval_phase/test_stream/Task000/Exp003 = 1.4292\n",
      "\tTop1_Acc_Exp/eval_phase/test_stream/Task000/Exp003 = 0.0000\n",
      "-- Starting eval on experience 4 (Task 0) from test stream --\n",
      "100%|██████████| 200/200 [00:01<00:00, 139.72it/s]\n",
      "> Eval on experience 4 (Task 0) from test stream ended.\n",
      "\tLoss_Exp/eval_phase/test_stream/Task000/Exp004 = 14.7430\n",
      "\tTime_Exp/eval_phase/test_stream/Task000/Exp004 = 1.4322\n",
      "\tTop1_Acc_Exp/eval_phase/test_stream/Task000/Exp004 = 0.0000\n",
      "-- >> End of eval phase << --\n",
      "Start training on experience  1\n",
      "-- >> Start of training phase << --\n",
      "100%|██████████| 1000/1000 [05:41<00:00,  2.92it/s]\n",
      "Epoch 0 ended.\n",
      "\tTop1_Acc_Epoch/train_phase/train_stream/Task000 = 0.8914\n",
      "100%|██████████| 1000/1000 [05:45<00:00,  2.90it/s]\n",
      "Epoch 1 ended.\n",
      "\tTop1_Acc_Epoch/train_phase/train_stream/Task000 = 0.9339\n",
      "100%|██████████| 1000/1000 [05:38<00:00,  2.96it/s]\n",
      "Epoch 2 ended.\n",
      "\tTop1_Acc_Epoch/train_phase/train_stream/Task000 = 0.9414\n",
      "100%|██████████| 1000/1000 [05:38<00:00,  2.96it/s]\n",
      "Epoch 3 ended.\n",
      "\tTop1_Acc_Epoch/train_phase/train_stream/Task000 = 0.9482\n",
      "100%|██████████| 1000/1000 [05:35<00:00,  2.98it/s]\n",
      "Epoch 4 ended.\n",
      "\tTop1_Acc_Epoch/train_phase/train_stream/Task000 = 0.9529\n",
      " 10%|█         | 100/1000 [00:33<05:00,  3.00it/s]"
     ]
    }
   ],
   "source": [
    "print(\"Starting experiment...\")\n",
    "results = []\n",
    "\n",
    "for experience in scenario.train_stream:\n",
    "    print(\"Start training on experience \", experience.current_experience)\n",
    "    strategies.train(experience)\n",
    "    print(\"End training on experience \", experience.current_experience)\n",
    "    print(\"Computing accuracy on the test set\")\n",
    "    results.append(strategies.eval(scenario.test_stream[:]))"
   ]
  }
 ],
 "metadata": {
  "kernelspec": {
   "display_name": "Python 3.8.5 ('hspark')",
   "language": "python",
   "name": "python3"
  },
  "language_info": {
   "codemirror_mode": {
    "name": "ipython",
    "version": 3
   },
   "file_extension": ".py",
   "mimetype": "text/x-python",
   "name": "python",
   "nbconvert_exporter": "python",
   "pygments_lexer": "ipython3",
   "version": "3.8.5"
  },
  "orig_nbformat": 4,
  "vscode": {
   "interpreter": {
    "hash": "7200c97f9580f269913cae0521a31c8c9bc2a022b66e7eee6f7caa3cb908faad"
   }
  }
 },
 "nbformat": 4,
 "nbformat_minor": 2
}
